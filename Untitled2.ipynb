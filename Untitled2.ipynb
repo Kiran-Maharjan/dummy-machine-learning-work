{
 "cells": [
  {
   "cell_type": "code",
   "execution_count": 2,
   "metadata": {
    "collapsed": false
   },
   "outputs": [
    {
     "name": "stdout",
     "output_type": "stream",
     "text": [
      "0 [-0.34824914] [ 0.78740138]\n",
      "20 [-0.05718504] [ 0.38744137]\n",
      "40 [ 0.05502689] [ 0.32501835]\n",
      "60 [ 0.08713248] [ 0.30715814]\n",
      "80 [ 0.09631839] [ 0.30204806]\n",
      "100 [ 0.09894665] [ 0.30058599]\n",
      "120 [ 0.09969863] [ 0.30016765]\n",
      "140 [ 0.09991378] [ 0.30004796]\n",
      "160 [ 0.09997531] [ 0.30001375]\n",
      "180 [ 0.09999295] [ 0.30000395]\n",
      "200 [ 0.09999799] [ 0.30000114]\n"
     ]
    }
   ],
   "source": [
    "import tensorflow as tf\n",
    "import numpy as np\n",
    "\n",
    "#Create 100 phony x,y data points in Numpy, y=x*0.1 +0.3\n",
    "x_data=np.random.rand(100).astype(np.float32)\n",
    "y_data=x_data*0.1+0.3\n",
    "\n",
    "#try to find value for  W and b that compute y_data=W*x_date +b\n",
    "# (We know that W should be 0.1 and b 0.3, but TensorFlow will\n",
    "# figure that out for us.)\n",
    "W=tf.Variable(tf.random_uniform([1],-1.0,1.0))\n",
    "b=tf.Variable(tf.zeros([1]))\n",
    "y=W*x_data +b\n",
    "\n",
    "\n",
    "#Minimize the mean squared errors.\n",
    "loss=tf.reduce_mean(tf.square(y-y_data))\n",
    "optimizer=tf.train.GradientDescentOptimizer(0.5)\n",
    "train=optimizer.minimize(loss)\n",
    "\n",
    "#before starting initialize the variables.\n",
    "init=tf.global_variables_initializer()\n",
    "\n",
    "#Launch the graph\n",
    "sess=tf.Session()\n",
    "sess.run(init)\n",
    "\n",
    "#Fit the line.\n",
    "for step in range(201):\n",
    "    sess.run(train)\n",
    "    if step %20==0:\n",
    "        print(step,sess.run(W),sess.run(b))\n",
    "\n",
    "# Learns best fit is W: [0.1], b: [0.3]"
   ]
  },
  {
   "cell_type": "code",
   "execution_count": null,
   "metadata": {
    "collapsed": true
   },
   "outputs": [],
   "source": []
  },
  {
   "cell_type": "code",
   "execution_count": null,
   "metadata": {
    "collapsed": true
   },
   "outputs": [],
   "source": []
  },
  {
   "cell_type": "code",
   "execution_count": null,
   "metadata": {
    "collapsed": true
   },
   "outputs": [],
   "source": []
  }
 ],
 "metadata": {
  "kernelspec": {
   "display_name": "Python 3",
   "language": "python",
   "name": "python3"
  },
  "language_info": {
   "codemirror_mode": {
    "name": "ipython",
    "version": 3
   },
   "file_extension": ".py",
   "mimetype": "text/x-python",
   "name": "python",
   "nbconvert_exporter": "python",
   "pygments_lexer": "ipython3",
   "version": "3.5.2"
  }
 },
 "nbformat": 4,
 "nbformat_minor": 2
}
